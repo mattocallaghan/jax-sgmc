{
 "cells": [
  {
   "cell_type": "code",
   "execution_count": 7,
   "metadata": {
    "collapsed": true
   },
   "outputs": [
    {
     "name": "stdout",
     "output_type": "stream",
     "text": [
      "Requirement already satisfied: matplotlib in /usr/local/Caskroom/miniconda/base/envs/SGMC/lib/python3.8/site-packages (3.4.1)\r\n",
      "Requirement already satisfied: pillow>=6.2.0 in /usr/local/Caskroom/miniconda/base/envs/SGMC/lib/python3.8/site-packages (from matplotlib) (8.2.0)\r\n",
      "Requirement already satisfied: cycler>=0.10 in /usr/local/Caskroom/miniconda/base/envs/SGMC/lib/python3.8/site-packages (from matplotlib) (0.10.0)\r\n",
      "Requirement already satisfied: python-dateutil>=2.7 in /usr/local/Caskroom/miniconda/base/envs/SGMC/lib/python3.8/site-packages (from matplotlib) (2.8.1)\r\n",
      "Requirement already satisfied: kiwisolver>=1.0.1 in /usr/local/Caskroom/miniconda/base/envs/SGMC/lib/python3.8/site-packages (from matplotlib) (1.3.1)\r\n",
      "Requirement already satisfied: numpy>=1.16 in /usr/local/Caskroom/miniconda/base/envs/SGMC/lib/python3.8/site-packages (from matplotlib) (1.20.2)\r\n",
      "Requirement already satisfied: pyparsing>=2.2.1 in /usr/local/Caskroom/miniconda/base/envs/SGMC/lib/python3.8/site-packages (from matplotlib) (2.4.7)\r\n",
      "Requirement already satisfied: six in /usr/local/Caskroom/miniconda/base/envs/SGMC/lib/python3.8/site-packages (from cycler>=0.10->matplotlib) (1.16.0)\r\n",
      "\u001B[31mERROR: Directory '..' is not installable. Neither 'setup.py' nor 'pyproject.toml' found.\u001B[0m\r\n"
     ]
    }
   ],
   "source": [
    "!pip install matplotlib\n",
    "!pip install ..\n",
    "#"
   ]
  },
  {
   "cell_type": "code",
   "execution_count": 8,
   "outputs": [],
   "source": [
    "import numpy as onp\n",
    "\n",
    "import jax\n",
    "import jax.numpy as jnp\n",
    "\n",
    "from jax import random, vmap\n",
    "\n",
    "import matplotlib\n",
    "\n",
    "from jax.scipy.stats import norm\n",
    "from jax.scipy.stats import uniform\n",
    "\n",
    "from functools import partial\n",
    "\n",
    "from jax_sgmc import distributions\n",
    "from jax_sgmc import potential\n",
    "\n",
    "from jax_sgmc import data"
   ],
   "metadata": {
    "collapsed": false,
    "pycharm": {
     "name": "#%%\n"
    }
   }
  },
  {
   "cell_type": "markdown",
   "source": [
    "Linear Regression\n",
    "=========================\n",
    "\n",
    "Problem\n",
    "---------\n",
    "\n",
    "$ y_i = \\sum_{j=1}^N w_jx_i + \\mathcal{N}(0, \\sigma^2),\\ i = 1, \\ldots, M$\n",
    "\n",
    "A multiple of samples are used to\n",
    "deal with overfitting.\n",
    "\n",
    "\n",
    "Reference Data\n",
    "---------------\n",
    "\n",
    "1. Draw weights $w_j$\n",
    "2. For each sample $i$:\n",
    "    1. Draw $N$ values of $x_j$\n",
    "    2. Draw noise $\\sigma$\n",
    "    3. Calculate $y_j$"
   ],
   "metadata": {
    "collapsed": false
   }
  },
  {
   "cell_type": "code",
   "execution_count": 9,
   "outputs": [],
   "source": [
    "# Todo: This is not the correct form to handle batches? -> It is possible but it\n",
    "# is kind of multiple batching\n",
    "\n",
    "N = 200\n",
    "M = 100\n",
    "\n",
    "samples = 1000\n",
    "\n",
    "sigma = 5.0\n",
    "\n",
    "key = random.PRNGKey(0)\n",
    "split, key = random.split(key)\n",
    "\n",
    "w = random.uniform(split, minval=-1, maxval=1, shape=(N, 1))\n",
    "\n",
    "def draw_samples(key, w):\n",
    "    # For each sample draw a new set of predictor variables x and calculate\n",
    "    # the response\n",
    "\n",
    "    split1, split2, key = random.split(key, 3)\n",
    "\n",
    "    noise = sigma * random.normal(split2, shape=(samples, 1))\n",
    "    x = random.uniform(split1, minval=-10, maxval=10, shape=(samples, N))\n",
    "    y = jnp.matmul(x,w) + noise\n",
    "\n",
    "    return x, y\n",
    "\n",
    "X, Y = draw_samples(key, w)"
   ],
   "metadata": {
    "collapsed": false,
    "pycharm": {
     "name": "#%%\n"
    }
   }
  },
  {
   "cell_type": "markdown",
   "source": [
    "The reference data and the desired batch shape must be load into a data loader"
   ],
   "metadata": {
    "collapsed": false,
    "pycharm": {
     "name": "#%% md\n"
    }
   }
  },
  {
   "cell_type": "code",
   "execution_count": 10,
   "outputs": [],
   "source": [
    "data_loader = data.NumpyDataLoader(M, x=X, y=Y)"
   ],
   "metadata": {
    "collapsed": false,
    "pycharm": {
     "name": "#%%\n"
    }
   }
  },
  {
   "cell_type": "markdown",
   "source": [
    "Solution\n",
    "---------\n",
    "\n",
    "### Exact"
   ],
   "metadata": {
    "collapsed": false,
    "pycharm": {
     "name": "#%% md\n"
    }
   }
  },
  {
   "cell_type": "code",
   "execution_count": 11,
   "outputs": [
    {
     "name": "stdout",
     "output_type": "stream",
     "text": [
      "Max error: 0.08426797389984131\n"
     ]
    }
   ],
   "source": [
    "w_sol, res, _, _ = jnp.linalg.lstsq(X, Y)\n",
    "\n",
    "print(f\"Max error: {jnp.max(jnp.abs(w - w_sol))}\")"
   ],
   "metadata": {
    "collapsed": false,
    "pycharm": {
     "name": "#%%\n"
    }
   }
  },
  {
   "cell_type": "markdown",
   "source": [
    "### SGLD\n"
   ],
   "metadata": {
    "collapsed": false,
    "pycharm": {
     "name": "#%% md\n"
    }
   }
  },
  {
   "cell_type": "code",
   "execution_count": 12,
   "outputs": [
    {
     "ename": "AttributeError",
     "evalue": "'NumpyDataLoader' object has no attribute 'get_random_batch'",
     "output_type": "error",
     "traceback": [
      "\u001B[0;31m---------------------------------------------------------------------------\u001B[0m",
      "\u001B[0;31mAttributeError\u001B[0m                            Traceback (most recent call last)",
      "\u001B[0;32m<ipython-input-12-00273c393f18>\u001B[0m in \u001B[0;36m<module>\u001B[0;34m\u001B[0m\n\u001B[1;32m     27\u001B[0m \u001B[0;31m# Get a reference batch\u001B[0m\u001B[0;34m\u001B[0m\u001B[0;34m\u001B[0m\u001B[0;34m\u001B[0m\u001B[0m\n\u001B[1;32m     28\u001B[0m \u001B[0;34m\u001B[0m\u001B[0m\n\u001B[0;32m---> 29\u001B[0;31m \u001B[0mbatch_y\u001B[0m\u001B[0;34m,\u001B[0m \u001B[0mbatch_x\u001B[0m \u001B[0;34m=\u001B[0m \u001B[0mdata_loader\u001B[0m\u001B[0;34m.\u001B[0m\u001B[0mget_random_batch\u001B[0m\u001B[0;34m(\u001B[0m\u001B[0;34m)\u001B[0m\u001B[0;34m\u001B[0m\u001B[0;34m\u001B[0m\u001B[0m\n\u001B[0m\u001B[1;32m     30\u001B[0m \u001B[0;34m\u001B[0m\u001B[0m\n\u001B[1;32m     31\u001B[0m \u001B[0mprint\u001B[0m\u001B[0;34m(\u001B[0m\u001B[0mmodel\u001B[0m\u001B[0;34m(\u001B[0m\u001B[0;34m{\u001B[0m\u001B[0;34m\"w\"\u001B[0m\u001B[0;34m:\u001B[0m \u001B[0mtest_w\u001B[0m\u001B[0;34m}\u001B[0m\u001B[0;34m,\u001B[0m \u001B[0mbatch_x\u001B[0m\u001B[0;34m[\u001B[0m\u001B[0;36m0\u001B[0m\u001B[0;34m,\u001B[0m\u001B[0;34m:\u001B[0m\u001B[0;34m:\u001B[0m\u001B[0;34m]\u001B[0m\u001B[0;34m)\u001B[0m\u001B[0;34m)\u001B[0m\u001B[0;34m\u001B[0m\u001B[0;34m\u001B[0m\u001B[0m\n",
      "\u001B[0;31mAttributeError\u001B[0m: 'NumpyDataLoader' object has no attribute 'get_random_batch'"
     ]
    }
   ],
   "source": [
    "# First we need to define the (deterministic) model\n",
    "\n",
    "def model(sample, parameters):\n",
    "    weights = sample[\"w\"]\n",
    "\n",
    "    print(weights)\n",
    "    print(parameters)\n",
    "\n",
    "    predictions = jnp.dot(parameters, weights)\n",
    "    return {\"y\": predictions}\n",
    "\n",
    "# The combination of prior and distribution form the posterior, from which we\n",
    "# sampling is performed.\n",
    "\n",
    "def likelihood(model_results, extra_parameters, reference_data):\n",
    "    sigma = extra_parameters[\"sigma\"]\n",
    "    y = model_results[\"y\"]\n",
    "    return norm.logpdf(y, loc=reference_data, scale=sigma)\n",
    "\n",
    "def prior(sample):\n",
    "    return uniform.logpdf(sample,\n",
    "                          loc=-10 * jnp.ones(sample.shape),\n",
    "                          scale=-10 * jnp.ones(sample.shape))\n",
    "\n",
    "test_w = random.normal(key, (N, 1))\n",
    "\n",
    "# Get a reference batch\n",
    "\n",
    "batch_y, batch_x = data_loader.get_random_batch()\n",
    "\n",
    "print(model({\"w\": test_w}, batch_x[0,::]))\n",
    "\n",
    "# We need to define how the posterior can be evaluated by a mini-batch of data\n",
    "# instead of jsut for a single sample.\n",
    "\n",
    "# minibatch_potential = potential.minibatch_potential_function(\n",
    "#     prior,\n",
    "#     likelihood,\n",
    "#     strategy=\"map\"\n",
    "# )\n",
    "\n",
    "# We test the potential evaluation for a single\n"
   ],
   "metadata": {
    "collapsed": false,
    "pycharm": {
     "name": "#%%\n"
    }
   }
  }
 ],
 "metadata": {
  "kernelspec": {
   "display_name": "Python 3",
   "language": "python",
   "name": "python3"
  },
  "language_info": {
   "codemirror_mode": {
    "name": "ipython",
    "version": 2
   },
   "file_extension": ".py",
   "mimetype": "text/x-python",
   "name": "python",
   "nbconvert_exporter": "python",
   "pygments_lexer": "ipython2",
   "version": "2.7.6"
  }
 },
 "nbformat": 4,
 "nbformat_minor": 0
}